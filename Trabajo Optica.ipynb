{
 "cells": [
  {
   "cell_type": "code",
   "execution_count": 6,
   "metadata": {
    "scrolled": false
   },
   "outputs": [],
   "source": [
    "\n",
    "from IPython.display import HTML\n",
    "import matplotlib\n",
    "import math\n",
    "import numpy\n",
    "import matplotlib.pyplot as plt\n",
    "import matplotlib.gridspec as gridspec\n",
    "from ipywidgets import interact, interactive, fixed, interact_manual\n",
    "import ipywidgets as widgets\n",
    "from ipywidgets import interactive\n",
    "from IPython.display import display\n",
    "import csv"
   ]
  },
  {
   "cell_type": "code",
   "execution_count": 7,
   "metadata": {
    "scrolled": false
   },
   "outputs": [
    {
     "data": {
      "text/html": [
       " \n",
       "  <style>  \n",
       "    .output_png {\n",
       "        display: table-cell;\n",
       "        text-align: center;\n",
       "        vertical-align: middle;\n",
       "    }\n",
       "  </style>"
      ],
      "text/plain": [
       "<IPython.core.display.HTML object>"
      ]
     },
     "execution_count": 7,
     "metadata": {},
     "output_type": "execute_result"
    }
   ],
   "source": [
    "###############################################\n",
    "#  Ignorar. CSS para centrar plots de Python  #\n",
    "###############################################\n",
    "HTML(''' \n",
    "  <style>  \n",
    "    .output_png {\n",
    "        display: table-cell;\n",
    "        text-align: center;\n",
    "        vertical-align: middle;\n",
    "    }\n",
    "  </style>''')"
   ]
  },
  {
   "cell_type": "markdown",
   "metadata": {},
   "source": [
    "<h1>Historia del Arcoiris</h1>"
   ]
  },
  {
   "cell_type": "markdown",
   "metadata": {},
   "source": [
    "<h3>Gota esférica sin dispersión </h3>"
   ]
  },
  {
   "attachments": {},
   "cell_type": "markdown",
   "metadata": {},
   "source": [
    "En esta primera aproximación consideraremos el sistema formado por una gota esférica en la que los rayos solares inciden paralelos a la horizontal y en la cual no considreamos variación del índice de refracción con la longitud de onda (es decir no tendremos en cuenta el fenomeno de dispersión).\n",
    "\n",
    "El sistema en cuestión es el presentado en la figura siguiente:<img src=\"rayos11.png\">\n",
    "\n",
    "<br>\n",
    "Las líneas amarillas representan el haz luminoso, mientras que las verdes corresponden con las normales a la superficie de la gota. El ángulo $\\alpha$, es el ángulo de incidencia que forma el haz luminoso con la normal, mientras que $\\beta$ corresponde con el ángulo de refracción. Este último ángulo puede ser calculado de manera inmediata aplicando la <i>ley de Snell</i> para la refracción: $$n_1 \\sin{\\alpha} = n_2 \\sin{\\beta} \\rightarrow \\beta = \\arcsin{\\left({{n_1}\\over{n_2}}\\sin{\\alpha}\\right)} $$\n",
    "<br>\n",
    "Es importaten destacar el hecho de la existencia de una desviación en la dirección del rayo saliente respecto del entrante, ya que será esta desviación uno de las factores más importantes para poder explicar la existencia del arcoiris. Como es de esperar, dicha desviación va a depender del ángulo de incidencia $\\alpha$ y lo denotaremos como $D(\\alpha)$. La desviación podrá calcularse, de manera sencilla, aplicando argumentos geométricos. Alargando los rayos incidente y saliente hasta cortarse:<img src=\"rayos11.png\">(attachment:rayos12.png)\n",
    "<br>\n",
    "Donde $D(\\alpha)=\\gamma=180º - 2\\delta$. Por otro lado, teniendo en cuenta que la suma de los ángulos de un triangulo es $180º$, obtenemos que el valor de $\\delta$ viene dado por: $$\\delta = 180º - (180º-\\beta) - (\\alpha - \\beta) = 2\\beta - \\alpha$$\n",
    "Y por tanto, la desviación estará relacionada con el ángulo de incidencia por: \n",
    "$$D(\\alpha)=180º-2\\delta=180º + 2\\alpha -4\\beta = 180º + 2\\alpha -4 \\arcsin{\\left({{n_1}\\over{n_2}}\\sin{\\alpha}\\right)}$$"
   ]
  },
  {
   "cell_type": "code",
   "execution_count": 3,
   "metadata": {
    "scrolled": false
   },
   "outputs": [
    {
     "data": {
      "application/vnd.jupyter.widget-view+json": {
       "model_id": "ca9fad2d2c6f4c6eb4120bf685f64530",
       "version_major": 2,
       "version_minor": 0
      },
      "text/html": [
       "<p>Failed to display Jupyter Widget of type <code>interactive</code>.</p>\n",
       "<p>\n",
       "  If you're reading this message in the Jupyter Notebook or JupyterLab Notebook, it may mean\n",
       "  that the widgets JavaScript is still loading. If this message persists, it\n",
       "  likely means that the widgets JavaScript library is either not installed or\n",
       "  not enabled. See the <a href=\"https://ipywidgets.readthedocs.io/en/stable/user_install.html\">Jupyter\n",
       "  Widgets Documentation</a> for setup instructions.\n",
       "</p>\n",
       "<p>\n",
       "  If you're reading this message in another frontend (for example, a static\n",
       "  rendering on GitHub or <a href=\"https://nbviewer.jupyter.org/\">NBViewer</a>),\n",
       "  it may mean that your frontend doesn't currently support widgets.\n",
       "</p>\n"
      ],
      "text/plain": [
       "interactive(children=(FloatSlider(value=90.0, description='alpha', max=1800.0, min=90.0, step=50.0), Output()), _dom_classes=('widget-interact',))"
      ]
     },
     "metadata": {},
     "output_type": "display_data"
    }
   ],
   "source": [
    "def deviation_alpha(alpha):\n",
    "    gamma = 180 + 2*alpha-4*numpy.degrees(numpy.arcsin(1/1.33*numpy.sin(numpy.radians(alpha))))\n",
    "    return gamma\n",
    "\n",
    "def plot1_func(alpha):\n",
    "    alpha_range = numpy.linspace(0,alpha,10000)\n",
    "\n",
    "    plt.figure(figsize=(8,8))\n",
    "    plot_deviation=plt.plot(alpha_range,deviation_alpha(alpha_range))\n",
    "    plt.xlabel(\"Ángulo de incidencia α (°)\",fontsize = 15)\n",
    "    plt.ylabel(\"Ángulo de desviación γ (°)\",fontsize = 15)\n",
    "    plt.figtext(0.5, 0.001, \"Medio: Agua. Índice de refracción: n=1.33\", horizontalalignment='center')\n",
    "    plt.title(\"Dependencia del ángulo de desviación con el de incidencia\",fontsize=20,fontweight='bold')\n",
    "\n",
    "interact(plot1_func, alpha = widgets.FloatSlider(value=90,\n",
    "                                           min=90,\n",
    "                                           max=1800,\n",
    "                                           step=50))\n",
    "plt.show()\n",
    "plt.close()"
   ]
  },
  {
   "cell_type": "markdown",
   "metadata": {},
   "source": [
    "Analizando la figura anterior, podemos observar la existencia de un mínimo en el ángulo de desviación (y un máximo para $\\delta$) entorno a la posición de $60º$. Dicho minimo será de grán importancia para la obtención del arcoiris, ya que en el entorno de ese punto se acumulan una mayor cantidad de rayos salientes con un ángulo muy parecido. Esto provoca una mayor densidad de rayos luminosos, y por ende una mayor intensidad. La cuestión de centrarnos en el intervalo $0º-90º$ se debe a la forma en la que hemos definido nuestro sistema problema, correspondiendo los $0º$ a la incidenciaa normal, y $90º$ a una incidencia rasante, como era de esperar. Sin embargo ampliando el intervalo vemos un comportamiento periodico de la función; correspondiendo el siguiente mínimo local, aproximadamente, a una incidencia de unos $60º$ negativos, y el ángulo de desviación $D(\\alpha)\\approx 222º = -138º$. Si continuamos ampliando, veremos de nuevo otro mínimo correspondiente a un ángulo de incidencia de $60º$ más el número de vueltas correspondiente.\n",
    "<br>\n",
    "\n",
    "Tomando la condición de la primera derivada de $D(\\alpha)$ nula, obtendremos el valor exacto de dicho mínimo:\n",
    "$$\\frac{d D(\\alpha)}{d \\alpha} = 0 = 2-4\\frac{n_1}{n_2}\\cos(\\alpha)\\left(1-\\frac{n_1^2}{n_2^2} \\sin^2(\\alpha)\\right)^{-\\frac{1}{2}}$$\n",
    "En el caso concreto a estudiar en el que $n_1 = 1$ (aire) y $n_2 = 1.33$ (Agua. Despreciando variación con la longitud de onda) obtenemos: \n",
    "$$\\alpha \\approx 59.5847º \\rightarrow D(\\alpha) \\approx 137.4836º $$ \n",
    "<br> \n",
    "\n",
    "Por último cabe destacar la relación existente entre el ángulo de desviación y el radio de la gota de agua. Como él angulo de desviacion es una función de $\\alpha$, primeramente deberemos encontrar la dependencia de este con el radio de la órbita. Es fácil demostrar, aplicando argumentos trigonométricos de nuevo, que se cumple la relación:\n",
    "$$\\alpha=\\arcsin \\left(\\frac{h}{r}\\right) $$ \n",
    "Donde $r$ es el radio de la órbita y $h$, la altura respecto a la horizontal que divide a la gota por la mitad. Si sustituimos la expresión anterior en la función $D(\\alpha)$:\n",
    "$$ D(\\alpha) = 180º + 2\\arcsin\\left(\\frac{h}{r}\\right) -4 \\arcsin{\\left({{n_1}\\over{n_2}}\\frac{h}{r}\\right)}$$\n",
    "<br>\n",
    "En la gráfica a continuación representaremos el ángulo de desviacion en función del radio de la gota para un valor fijado de $h$ y viceversa: "
   ]
  },
  {
   "cell_type": "code",
   "execution_count": 4,
   "metadata": {},
   "outputs": [
    {
     "data": {
      "application/vnd.jupyter.widget-view+json": {
       "model_id": "ed672c2a122342ce94d4a8b069bd9fa4",
       "version_major": 2,
       "version_minor": 0
      },
      "text/html": [
       "<p>Failed to display Jupyter Widget of type <code>interactive</code>.</p>\n",
       "<p>\n",
       "  If you're reading this message in the Jupyter Notebook or JupyterLab Notebook, it may mean\n",
       "  that the widgets JavaScript is still loading. If this message persists, it\n",
       "  likely means that the widgets JavaScript library is either not installed or\n",
       "  not enabled. See the <a href=\"https://ipywidgets.readthedocs.io/en/stable/user_install.html\">Jupyter\n",
       "  Widgets Documentation</a> for setup instructions.\n",
       "</p>\n",
       "<p>\n",
       "  If you're reading this message in another frontend (for example, a static\n",
       "  rendering on GitHub or <a href=\"https://nbviewer.jupyter.org/\">NBViewer</a>),\n",
       "  it may mean that your frontend doesn't currently support widgets.\n",
       "</p>\n"
      ],
      "text/plain": [
       "interactive(children=(FloatSlider(value=1.0, description='radius', max=10.0, min=0.1), FloatSlider(value=0.1, description='height', max=10.0), Output()), _dom_classes=('widget-interact',))"
      ]
     },
     "metadata": {},
     "output_type": "display_data"
    }
   ],
   "source": [
    "try: \n",
    "    def deviation_rh(radius,height):\n",
    "        gamma = 180 + 2*numpy.degrees((numpy.arcsin(height/radius)))-4*numpy.degrees(numpy.arcsin(1/1.33*height/radius))\n",
    "        return gamma\n",
    "\n",
    "\n",
    "    def plot_deviation_radius(radius,height):\n",
    "        if(height>radius):\n",
    "            print(\"Error: El valor de la altura debe ser menor que el valor del radio!\")\n",
    "        figure2 = plt.figure(figsize=(16,8))\n",
    "\n",
    "        radius_range = numpy.linspace(height,radius,100)\n",
    "        plot1 = figure2.add_subplot(121)\n",
    "        plot1.plot(radius_range,deviation_rh(radius_range,height))\n",
    "\n",
    "        height_range = numpy.linspace(0,height,100)\n",
    "        plot2 = figure2.add_subplot(122)\n",
    "        plot2.plot(height_range,deviation_rh(radius,height_range))\n",
    "\n",
    "        plot1.set_xlabel(\"Radio de la gota (unidades arbitrarias)\",fontsize = 15)\n",
    "        plot1.set_ylabel(\"Ángulo de desviación γ (°)\",fontsize = 15)\n",
    "        plot1.set_title(\"Dependencia del ángulo de desviación con el radio\\n (h=\"+str(height)+\")\",fontsize=15,fontweight='bold')\n",
    "        plot2.set_xlabel(\"Altura rayo incidente (unidades arbitrarias)\",fontsize = 15)\n",
    "        plot2.set_ylabel(\"Ángulo de desviación γ (°)\",fontsize = 15)\n",
    "        plot2.set_title(\"Dependencia del ángulo de desviación con la altura del rayo incidente\\n (r=\"+str(radius)+\")\",fontsize=12,fontweight='bold')\n",
    "        plt.figtext(0.5, 0.001, \"Medio: Agua. Índice de refracción: n=1.33\", horizontalalignment='center')\n",
    "\n",
    "\n",
    "    #def plot_deviation_height(radius,height):\n",
    "        #height_range = numpy.linspace(0,height,1000)\n",
    "        #plot1 = figure2.add_subplot(122)\n",
    "        #plot1.plot(height_range,deviation_rh(radius,height_range))\n",
    "        #plt.xlabel(\"Altura del rayo incidente (unidades arbitrarias))\",fontsize = 15)\n",
    "        #plt.ylabel(\"Ángulo de desviación γ (°)\",fontsize = 15)\n",
    "        #plt.figtext(0.5, 0.001, \"Medio: Agua. Índice de refracción: n=1.33\", horizontalalignment='center')\n",
    "        #plt.title(\"Dependencia del ángulo de desviación con la altura del rayo incidente\",fontsize=20,fontweight='bold')\n",
    "    interact(plot_deviation_radius,radius = widgets.FloatSlider(value=1,\n",
    "                                               min=0.1,\n",
    "                                               max=10,\n",
    "                                               step=0.1), \n",
    "              height = widgets.FloatSlider(value=0.1,\n",
    "                                               min=0,\n",
    "                                               max=10,\n",
    "                                               step=0.1))\n",
    "    #display(w)\n",
    "    plt.show()\n",
    "    #w.result[0]\n",
    "    #plot_deviation_radius(w.result[0],w.result[1])\n",
    "    #plot_deviation_height(w.result[0],w.result[1])\n",
    "\n",
    "    \n",
    "except:\n",
    "    pass\n",
    "        "
   ]
  },
  {
   "cell_type": "markdown",
   "metadata": {},
   "source": [
    "<h3> Gota esférica con dispersión </h3>"
   ]
  },
  {
   "cell_type": "code",
   "execution_count": 49,
   "metadata": {},
   "outputs": [
    {
     "name": "stdout",
     "output_type": "stream",
     "text": [
      "['0.200', '1.396']\n"
     ]
    },
    {
     "ename": "KeyError",
     "evalue": "1.396",
     "output_type": "error",
     "traceback": [
      "\u001b[0;31m---------------------------------------------------------------------------\u001b[0m",
      "\u001b[0;31mKeyError\u001b[0m                                  Traceback (most recent call last)",
      "\u001b[0;32m<ipython-input-49-2ae529e62d4b>\u001b[0m in \u001b[0;36m<module>\u001b[0;34m()\u001b[0m\n\u001b[1;32m     10\u001b[0m         \u001b[0;32mif\u001b[0m \u001b[0;34m(\u001b[0m\u001b[0mi\u001b[0m\u001b[0;34m!=\u001b[0m\u001b[0;36m0\u001b[0m\u001b[0;34m)\u001b[0m\u001b[0;34m:\u001b[0m\u001b[0;34m\u001b[0m\u001b[0m\n\u001b[1;32m     11\u001b[0m             \u001b[0mprint\u001b[0m\u001b[0;34m(\u001b[0m\u001b[0mrow\u001b[0m\u001b[0;34m)\u001b[0m\u001b[0;34m\u001b[0m\u001b[0m\n\u001b[0;32m---> 12\u001b[0;31m             \u001b[0mindex\u001b[0m\u001b[0;34m[\u001b[0m\u001b[0mround\u001b[0m\u001b[0;34m(\u001b[0m\u001b[0mint\u001b[0m\u001b[0;34m(\u001b[0m\u001b[0mrow\u001b[0m\u001b[0;34m[\u001b[0m\u001b[0;36m0\u001b[0m\u001b[0;34m]\u001b[0m\u001b[0;34m.\u001b[0m\u001b[0msplit\u001b[0m\u001b[0;34m(\u001b[0m\u001b[0;34m)\u001b[0m\u001b[0;34m[\u001b[0m\u001b[0;36m0\u001b[0m\u001b[0;34m]\u001b[0m\u001b[0;34m)\u001b[0m\u001b[0;34m*\u001b[0m\u001b[0;36m1000\u001b[0m\u001b[0;34m,\u001b[0m\u001b[0;36m5\u001b[0m\u001b[0;34m)\u001b[0m\u001b[0;34m]\u001b[0m \u001b[0;34m=\u001b[0m \u001b[0mindex\u001b[0m\u001b[0;34m[\u001b[0m\u001b[0mround\u001b[0m\u001b[0;34m(\u001b[0m\u001b[0mfloat\u001b[0m\u001b[0;34m(\u001b[0m\u001b[0mrow\u001b[0m\u001b[0;34m[\u001b[0m\u001b[0;36m1\u001b[0m\u001b[0;34m]\u001b[0m\u001b[0;34m)\u001b[0m\u001b[0;34m,\u001b[0m\u001b[0;36m5\u001b[0m\u001b[0;34m)\u001b[0m\u001b[0;34m]\u001b[0m\u001b[0;34m\u001b[0m\u001b[0m\n\u001b[0m\u001b[1;32m     13\u001b[0m         \u001b[0mi\u001b[0m\u001b[0;34m+=\u001b[0m\u001b[0;36m1\u001b[0m\u001b[0;34m\u001b[0m\u001b[0m\n\u001b[1;32m     14\u001b[0m \u001b[0mprint\u001b[0m\u001b[0;34m(\u001b[0m\u001b[0mindex\u001b[0m\u001b[0;34m)\u001b[0m\u001b[0;34m\u001b[0m\u001b[0m\n",
      "\u001b[0;31mKeyError\u001b[0m: 1.396"
     ]
    }
   ],
   "source": [
    "index = {}\n",
    "i = 0\n",
    "with open('indice.csv','r') as indice:\n",
    "    reader = csv.reader(indice)\n",
    "    \n",
    "    \n",
    "    for row in reader:\n",
    "        if len(row) == 0:\n",
    "            break\n",
    "        if (i!=0):    \n",
    "            print(row)\n",
    "            index[round(int(row[0].split()[0])*1000,5)] = index[round(float(row[1]),5)]\n",
    "        i+=1\n",
    "print(index)"
   ]
  },
  {
   "cell_type": "code",
   "execution_count": 5,
   "metadata": {
    "scrolled": false
   },
   "outputs": [
    {
     "data": {
      "text/html": [
       "<script>\n",
       "code_show=true; \n",
       "function code_toggle() {\n",
       " if (code_show){\n",
       "    $('div.input').hide();\n",
       "    $('div.prompt').hide();\n",
       "    $('div.back-to-top').hide();\n",
       "    $('nav#menubar').hide();\n",
       "    $('.breadcrumb').hide();\n",
       "    $('.hidden-print').hide();\n",
       " } else {\n",
       "    $('div.input').show();\n",
       "    $('div.prompt').show();\n",
       "    $('div.back-to-top').show();\n",
       "    $('nav#menubar').show();\n",
       "    $('.breadcrumb').show();\n",
       "    $('.hidden-print').show();\n",
       " }\n",
       " code_show = !code_show\n",
       "} \n",
       "$( document ).ready(code_toggle);\n",
       "</script>\n",
       "The raw code for this IPython notebook is by default hidden for easier reading.\n",
       "To toggle on/off the raw code, click <a href=\"javascript:code_toggle()\">here</a>."
      ],
      "text/plain": [
       "<IPython.core.display.HTML object>"
      ]
     },
     "execution_count": 5,
     "metadata": {},
     "output_type": "execute_result"
    }
   ],
   "source": [
    "################################################\n",
    "# Ignorar. Script para ocultar celdas de codigo#\n",
    "################################################\n",
    "HTML('''<script>\n",
    "code_show=true; \n",
    "function code_toggle() {\n",
    " if (code_show){\n",
    "    $('div.input').hide();\n",
    "    $('div.prompt').hide();\n",
    "    $('div.back-to-top').hide();\n",
    "    $('nav#menubar').hide();\n",
    "    $('.breadcrumb').hide();\n",
    "    $('.hidden-print').hide();\n",
    " } else {\n",
    "    $('div.input').show();\n",
    "    $('div.prompt').show();\n",
    "    $('div.back-to-top').show();\n",
    "    $('nav#menubar').show();\n",
    "    $('.breadcrumb').show();\n",
    "    $('.hidden-print').show();\n",
    " }\n",
    " code_show = !code_show\n",
    "} \n",
    "$( document ).ready(code_toggle);\n",
    "</script>\n",
    "The raw code for this IPython notebook is by default hidden for easier reading.\n",
    "To toggle on/off the raw code, click <a href=\"javascript:code_toggle()\">here</a>.''')"
   ]
  },
  {
   "cell_type": "code",
   "execution_count": null,
   "metadata": {},
   "outputs": [],
   "source": []
  }
 ],
 "metadata": {
  "kernelspec": {
   "display_name": "Python 3",
   "language": "python",
   "name": "python3"
  },
  "language_info": {
   "codemirror_mode": {
    "name": "ipython",
    "version": 3
   },
   "file_extension": ".py",
   "mimetype": "text/x-python",
   "name": "python",
   "nbconvert_exporter": "python",
   "pygments_lexer": "ipython3",
   "version": "3.6.4"
  }
 },
 "nbformat": 4,
 "nbformat_minor": 2
}
